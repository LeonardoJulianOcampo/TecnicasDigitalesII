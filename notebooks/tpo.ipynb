{
 "cells": [
  {
   "cell_type": "markdown",
   "id": "340c8c05-f32d-4d77-8fc9-85e95e149a64",
   "metadata": {},
   "source": [
    "# TPO TDII\n",
    "\n",
    "## Efecto: La Apilada\n",
    "\n",
    "Una luz arranca de izquierda a derecha y cuando alcanza el extremo derecho, parpàdea y se queda encendida en la última posición; a partir de allí una nueva luz comienza su recorrido desde la izquierda y se desplaza hacia la derecha hasta llegar a la posición anterior a la que está fija, parpadea y también se queda quieta como la anterior. Ahora son dos las luces quietas y se repite el mismo proceso para una nueva luz arrancando por la izquierda y llegando a la posición anterior a las dos quietas. La secuencia termina cuando los ocho lugares han sido ocupados de la forma descripta."
   ]
  },
  {
   "cell_type": "code",
   "execution_count": null,
   "id": "fffe6088-c4ac-442e-a2fe-6b80f11074ba",
   "metadata": {},
   "outputs": [],
   "source": [
    "#include <stdio.h>\n",
    "#include <stdlib.h>"
   ]
  },
  {
   "cell_type": "markdown",
   "id": "570030ab-ecde-456e-921b-4c2071e575b3",
   "metadata": {},
   "source": [
    "### Declaración de la función apilada"
   ]
  },
  {
   "cell_type": "markdown",
   "id": "95f00462-63aa-43e0-aa86-fb8886a7eb1b",
   "metadata": {},
   "source": [
    "Lo que se hace es primero obtener una secuencia de un led que se desplaza un cantidad \"ciclos\" de veces hacia la derecha para luego parpadear. Este ultimo led queda almacenada en su ultima posición, lo que se puede lograr mediante otra variable que almacena el efecto resultante. "
   ]
  },
  {
   "cell_type": "code",
   "execution_count": 8,
   "id": "9d59484d-005d-477e-8997-bb40b669ff9e",
   "metadata": {},
   "outputs": [],
   "source": [
    "void itob(int numero, int* matrix){\n",
    "int i,j,aux;\n",
    "\n",
    "  for(i=7;i>=0;i--){\n",
    "        aux = numero%2;\n",
    "        if(numero>1)\n",
    "            matrix[i]=aux;\n",
    "        if(numero==0)\n",
    "            matrix[i]=0;\n",
    "        if(numero==1)\n",
    "            matrix[i]=numero;\n",
    "        numero=numero/2;\n",
    "    }\n",
    "}"
   ]
  },
  {
   "cell_type": "code",
   "execution_count": 9,
   "id": "9e56e6c7-1a87-43fb-ae11-55d5534a30ef",
   "metadata": {},
   "outputs": [],
   "source": [
    "void apilada(void){\n",
    "    int i=0;\n",
    "    int u=0;\n",
    "    int ciclos = 7;\n",
    "    int valor = 128;\n",
    "    int salida[8];\n",
    "    \n",
    "    \n",
    "    itob(valor,salida);\n",
    "    \n",
    "    for(i=0;i<=ciclos;i++){\n",
    "        printf(\"\\n\");\n",
    "        valor = valor >> 1;\n",
    "        itob(valor,salida);\n",
    "        printf(\"%d \",salida[i]);\n",
    "    }\n",
    "    \n",
    "}"
   ]
  },
  {
   "cell_type": "code",
   "execution_count": 10,
   "id": "1b82d368-1caa-4401-aa15-6e5c5266e21e",
   "metadata": {},
   "outputs": [],
   "source": [
    "int main(){\n",
    "    \n",
    "    for(int u = 0; u<=3;u++)\n",
    "        apilada();\n",
    "    \n",
    "}"
   ]
  },
  {
   "cell_type": "code",
   "execution_count": null,
   "id": "03ae30d9-85d9-4665-b98e-3680c7ea31ce",
   "metadata": {},
   "outputs": [],
   "source": []
  }
 ],
 "metadata": {
  "kernelspec": {
   "display_name": "C++11",
   "language": "C++11",
   "name": "xcpp11"
  },
  "language_info": {
   "codemirror_mode": "text/x-c++src",
   "file_extension": ".cpp",
   "mimetype": "text/x-c++src",
   "name": "c++",
   "version": "11"
  }
 },
 "nbformat": 4,
 "nbformat_minor": 5
}
